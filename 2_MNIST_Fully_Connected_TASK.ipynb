{
 "cells": [
  {
   "attachments": {},
   "cell_type": "markdown",
   "metadata": {
    "id": "fIOo7906Ebt1"
   },
   "source": [
    "# MNIST classification with FCNN\n",
    "\n",
    "In this practice, we will consider the problem of image classification with fully connected neural network.\n",
    "\n",
    "We will solve the classic problem of handwritten digit recognition. The MNIST dataset has been created for this task. It contains images (28x28 pixels) of handwritten numbers from 0 to 9 -- i.e. There are 10 classes of pictures in total.\n",
    "\n",
    "Afterwards we will see, how such a neural network works for the problem of image recognition in CIFAR datasets, which are a set of real images reduced to a size of 32x32 pixels."
   ]
  },
  {
   "attachments": {},
   "cell_type": "markdown",
   "metadata": {
    "id": "fq7VxTBfHkhM"
   },
   "source": [
    "# Seed random number generators\n",
    "\n",
    "Random number generators generate different sets of random numbers from run to run by default. Since random numbers are used to initialize the network weights and to form the batches, the resulting neural network's weights will differ from run to run.\n",
    "\n",
    "To make the results reproducible, it is necessary to initialize the random number generators with ```seed```s. This is done with the following commands: ```random.seed``` for the ```random``` library, ```np.random.seed``` for the ```numpy``` library. For pytorch, you will need several commands:\n",
    "\n",
    "```\n",
    "torch.manual_seed_all\n",
    "torch.cuda.manual_seed_all\n",
    "```\n",
    "\n",
    "You will also need to switch ```cuda``` to deterministic mode:\n",
    "\n",
    "```\n",
    "torch.backends.cudnn.deterministic = True\n",
    "```"
   ]
  },
  {
   "cell_type": "code",
   "execution_count": 26,
   "metadata": {
    "id": "DWr6cvb9pS3J"
   },
   "outputs": [],
   "source": [
    "import torch\n",
    "import random\n",
    "import numpy as np\n",
    "import pandas as pd\n"
   ]
  },
  {
   "cell_type": "code",
   "execution_count": 2,
   "metadata": {},
   "outputs": [],
   "source": [
    "torch.manual_seed(42)\n",
    "torch.cuda.manual_seed_all(42)\n",
    "random.seed(42)\n",
    "np.random.seed(42)\n",
    "torch.backends.cudnn.deterministic = True"
   ]
  },
  {
   "attachments": {},
   "cell_type": "markdown",
   "metadata": {
    "id": "Sr9W-Bg-hCjz"
   },
   "source": [
    "# Load MNIST training and validation data into RAM\n",
    "\n",
    "To do so, use the ```torchvision.datasets.MNIST``` class. Note that the training and test parts are controlled by the ```train``` parameter."
   ]
  },
  {
   "cell_type": "code",
   "execution_count": 3,
   "metadata": {
    "id": "_dg-FUvwGN-d"
   },
   "outputs": [],
   "source": [
    "from torchvision.datasets import MNIST\n",
    "from torchvision.transforms import ToTensor\n"
   ]
  },
  {
   "cell_type": "code",
   "execution_count": 4,
   "metadata": {
    "colab": {
     "base_uri": "https://localhost:8080/",
     "height": 471,
     "referenced_widgets": [
      "40a02a97b8d249e2afd01ae22a46ff5d",
      "6ea87d598c254ae4a69727419bcaaaa9",
      "af46abe1e35f493ea9bcf760ae517981",
      "9ce96438de614d3095b473d4f581e548",
      "781a041806fd4926a61fc10b984a217a",
      "6105d07430b744b396dadef520382ee8",
      "28165ee9d71349d18b31573dd0db4871",
      "3ffb267a8e0a4b2d9b42cef5a9f1aecc",
      "d409959ce2de4da6b5208308df147c36",
      "a73adfc139c44df5b7ee645e5dab6598",
      "61da5719d6e44db2961db0871b52a520",
      "4c557714b2ff4ff89cd1549833225599",
      "2bc739d588c44504a6363b0c2b126534",
      "5631f9daba63496ab0adaf157b574587",
      "a31c26563f57498f8b02d54c398927dd",
      "bb112bb10fe54242adf0f1e86bbff377",
      "4da838a7d0c147be8341916641a57852",
      "db5c47da72b14a89bc5888561b1c1378",
      "29a92c3c8ebe4a9f93739858b6b886d5",
      "37d7387c2cc2407587ec7040590a051b",
      "eb0f08c4179f4a3aa7076e68722389d1",
      "0ea68f74683b4eee8f222adf4f861a76",
      "6dc85ffa03de4907be743de94cdce349",
      "5aaab2fa61a845c9a3952a7b917ac7bc",
      "dcb0bc059d374d4a9ea260a69abe5156",
      "914e384ece254d5fb6c53fa0f818d8f6",
      "ad94e46a59394139ada81a27e29d49c0",
      "8ed56a64626b4eb9af907ce7c721630b",
      "3bac3fe851c34a4dbe94ecb4580745fa",
      "9731033f71f44bd7b44703c62e6bbd38",
      "3ad04b4354544e0ab3dbe22e5842be64",
      "2d023aafa5bb4a94b06330754668397c",
      "6fe6b583d84d4d3aa1d0908a4e063f1a",
      "b52a7145cecc49eb935abb4ce7d23da7",
      "b63527a2ce6e4492bb48c788ad57442a",
      "32f26bde2daf40378a3f30aba08f090e",
      "dd28280894a0468a8576ee905b1a54a2",
      "bf3d293973a747b89ebe721e15bc7190",
      "71001c3bb6a34f3d9a9566004100bbff",
      "cee438dd25a04011b8f5cf5774b3d9db",
      "f52e9975da5d4fab8eaf310a6509d69a",
      "ea462623a96545b5a8b7f9c94dd2f3e7",
      "b948f945473d40788b560ed6df6b6d3f",
      "75ea03bc162b4fabb049556d3b5c4344"
     ]
    },
    "id": "MqGQWTDIpS3R",
    "outputId": "83af92dd-24c8-42ac-e2f0-b5a7bfe1a9d4"
   },
   "outputs": [],
   "source": [
    "MNIST_train = MNIST(root=\"./data\", train=True, download=True, transform=ToTensor())\n",
    "MNIST_test = MNIST(root=\"./data\", train=False, download=True, transform=ToTensor())"
   ]
  },
  {
   "attachments": {},
   "cell_type": "markdown",
   "metadata": {
    "id": "Tmd5j25vi0ag"
   },
   "source": [
    "# Check that everything works"
   ]
  },
  {
   "cell_type": "code",
   "execution_count": 5,
   "metadata": {
    "colab": {
     "base_uri": "https://localhost:8080/"
    },
    "id": "vv_Lz7PYpS3U",
    "outputId": "54e6bc07-7029-4d87-f945-0e4dc623de1c"
   },
   "outputs": [
    {
     "name": "stdout",
     "output_type": "stream",
     "text": [
      "torch.Size([60000, 28, 28]) torch.Size([60000]) <- train dataset X and y\n",
      "torch.Size([10000, 28, 28]) torch.Size([10000]) <- test dataset X and y\n",
      "torch.uint8 torch.int64 <- training data type\n"
     ]
    },
    {
     "name": "stderr",
     "output_type": "stream",
     "text": [
      "/opt/anaconda3/envs/conda-venv/lib/python3.10/site-packages/torchvision/datasets/mnist.py:76: UserWarning: train_data has been renamed data\n",
      "  warnings.warn(\"train_data has been renamed data\")\n",
      "/opt/anaconda3/envs/conda-venv/lib/python3.10/site-packages/torchvision/datasets/mnist.py:66: UserWarning: train_labels has been renamed targets\n",
      "  warnings.warn(\"train_labels has been renamed targets\")\n",
      "/opt/anaconda3/envs/conda-venv/lib/python3.10/site-packages/torchvision/datasets/mnist.py:81: UserWarning: test_data has been renamed data\n",
      "  warnings.warn(\"test_data has been renamed data\")\n",
      "/opt/anaconda3/envs/conda-venv/lib/python3.10/site-packages/torchvision/datasets/mnist.py:71: UserWarning: test_labels has been renamed targets\n",
      "  warnings.warn(\"test_labels has been renamed targets\")\n"
     ]
    }
   ],
   "source": [
    "X_train = MNIST_train.train_data\n",
    "y_train = MNIST_train.train_labels\n",
    "X_test = MNIST_test.test_data\n",
    "y_test = MNIST_test.test_labels\n",
    "\n",
    "print(X_train.shape, y_train.shape, '<- train dataset X and y')\n",
    "print(X_test.shape, y_test.shape, '<- test dataset X and y')\n",
    "\n",
    "print(X_train.dtype, y_train.dtype, '<- training data type')"
   ]
  },
  {
   "attachments": {},
   "cell_type": "markdown",
   "metadata": {
    "id": "8fLL9uxtjl2R"
   },
   "source": [
    "# We give formats\n",
    "\n",
    "PyTorch works with float tensors by default. Thus it is necessary to convert tensors with data to float using the tensor's ```.float()``` method. As a loss function, we will use ```torch.nn.CrossEntropy```, which takes as input the predictions of the neural network and the tensor from the numbers of the correct classes. This tensor must be in the ```long``` format. Since by default ```y``` in the dataset is already in the ```long``` format, there is no need to do anything with the labels."
   ]
  },
  {
   "cell_type": "code",
   "execution_count": 6,
   "metadata": {
    "id": "_yTaVOrPvap6"
   },
   "outputs": [],
   "source": [
    "X_train = X_train.float() / 255\n",
    "X_test = X_test.float() / 255\n"
   ]
  },
  {
   "attachments": {},
   "cell_type": "markdown",
   "metadata": {
    "id": "KOYy5VW7l2JH"
   },
   "source": [
    "# View the data\n",
    "\n",
    "Visually evaluate the data that we have. Let's check that the markup matches what is contained in the picture. To do this, let's display an image with ```plt.imshow``` and see which label corresponds to this image.\n",
    "\n",
    "Pay attention to this code: in the following tasks, you will need to make mappings yourself."
   ]
  },
  {
   "cell_type": "code",
   "execution_count": 7,
   "metadata": {
    "colab": {
     "base_uri": "https://localhost:8080/",
     "height": 282
    },
    "id": "Z1tFXMwJpS3e",
    "outputId": "340facc6-a96a-4e48-b89c-c508213ddbd6"
   },
   "outputs": [
    {
     "data": {
      "image/png": "[encoded data removed]",
      "text/plain": [
       "<Figure size 640x480 with 1 Axes>"
      ]
     },
     "metadata": {},
     "output_type": "display_data"
    },
    {
     "name": "stdout",
     "output_type": "stream",
     "text": [
      "tensor(0)\n"
     ]
    }
   ],
   "source": [
    "import matplotlib.pyplot as plt\n",
    "\n",
    "index = 34\n",
    "\n",
    "plt.imshow(X_train[index, :, :])\n",
    "plt.show()\n",
    "print(y_train[index])"
   ]
  },
  {
   "attachments": {},
   "cell_type": "markdown",
   "metadata": {
    "id": "QjHFPMEmpBcP"
   },
   "source": [
    "# Prepare the neural network\n",
    "\n",
    "In order to make a neural network in Pytorch, one should prepare a class inherited from ```pytorch.nn.Module```, which has two functions:\n",
    "\n",
    "* ```__init__(self, n_hidden_neurons)``` -- a constructor in which we define the modules that we use in the neural network. Before declaring modules, you need to initialize the parent class with ```super().__init__()```, after which you can declare the necessary modules\n",
    "The neural network in our case will consist of only three modules. Schematically, a neural network can be represented as follows:\n",
    "```\n",
    "torch.nn.Linear 28*28 -> n_hidden_neurons\n",
    "torch.nn.LeakyReLU\n",
    "torch.nn.Linear n_hidden_heurons -> 10\n",
    "```\n",
    "\n",
    "* ```forward(self, x)``` -- traverse the network forward. Here it is necessary to get forecasts for ```x```. ```x``` is a batch of images converted to a vector. Batch is a tensor of size ```N x 784```, where ```N``` is the number of images in the batch, ```784``` is the number of pixels in the black and white image (```28 x 28```). Apply the ```reshape([-1, 784])``` method to the input ```x``` (```-1``` here means \"the number that fits\", it will be automatically derived from amount of elements in the batch). After that successively apply the modules declared in the constructor to the signal and return the result."
   ]
  },
  {
   "cell_type": "code",
   "execution_count": 8,
   "metadata": {
    "id": "k7l65slppS3l"
   },
   "outputs": [],
   "source": [
    "class MNISTNet(torch.nn.Module):\n",
    "    def __init__(self, n_hidden_neurons):\n",
    "        super().__init__()\n",
    "        self.fc1 = torch.nn.Linear(28 * 28, n_hidden_neurons)\n",
    "        self.relu = torch.nn.LeakyReLU()\n",
    "        self.fc2 = torch.nn.Linear(n_hidden_neurons, 10)\n",
    "\n",
    "    def forward(self, x):\n",
    "        x = x.view(-1, 28 * 28)  # Flatten the image to a 1D vector\n",
    "        x = self.fc1(x)\n",
    "        x = self.relu(x)\n",
    "        x = self.fc2(x)\n",
    "        return x\n"
   ]
  },
  {
   "attachments": {},
   "cell_type": "markdown",
   "metadata": {
    "id": "Yrnt4XH2w6zm"
   },
   "source": [
    "# Check that everything is correct"
   ]
  },
  {
   "cell_type": "code",
   "execution_count": 9,
   "metadata": {
    "colab": {
     "base_uri": "https://localhost:8080/"
    },
    "id": "-V1BqtLCw5rW",
    "outputId": "3de9bcbe-b741-4277-9ab2-4d19fe9ba611"
   },
   "outputs": [
    {
     "name": "stdout",
     "output_type": "stream",
     "text": [
      "torch.Size([10, 10]) <- shape of predictions\n"
     ]
    }
   ],
   "source": [
    "mnist_net = MNISTNet(100)\n",
    "res = mnist_net(torch.zeros(10, 28*28))\n",
    "assert res.shape[0] == 10\n",
    "print(res.shape, '<- shape of predictions')"
   ]
  },
  {
   "attachments": {},
   "cell_type": "markdown",
   "metadata": {
    "id": "6EdyxZw7xUDX"
   },
   "source": [
    "# Set the loss function and optimizer\n",
    "\n",
    "We will use ```torch.nn.CrossEntropyLoss``` as a loss function\n",
    "\n",
    "We will use ```torch.nn.Adam``` as an optimizer\n",
    "\n",
    "The optimizer should optimize all parameters of the neural network (which can be referenced using the ```mnist_net.parameters()``` method) and the learning rate should be set to $10^{-3}$."
   ]
  },
  {
   "cell_type": "code",
   "execution_count": 10,
   "metadata": {
    "id": "00_2j2igpS3o"
   },
   "outputs": [],
   "source": [
    "loss = torch.nn.CrossEntropyLoss()\n",
    "optimizer = torch.optim.Adam(mnist_net.parameters(), lr=1e-3)"
   ]
  },
  {
   "attachments": {},
   "cell_type": "markdown",
   "metadata": {
    "id": "gB0gV4qS0GZb"
   },
   "source": [
    "# Let's build the learning process\n",
    "\n",
    "Everything is ready: optimizer, loss function, neural network. What remains is to train the neural network.\n",
    "\n",
    "To do so, you need to create a learning cycle.\n",
    "\n",
    "The training loop usually consists of two nested loops: the inner loop runs through all the examples in the training or testing set. One such pass is called an epoch.\n",
    "\n",
    "The outer cycle iterates over epochs.\n",
    "\n",
    "# Instructions for building a training loop\n",
    "\n",
    "* Make an outer loop for a predetermined number of epochs within which:\n",
    "   * Generate a random order of the training examples using the ```order = np.random.permutation(...)``` method\n",
    "   * Make an inner loop through the training examples. The loop should iterate over ```order``` with interval ```batch_size``` (```range(0, len(order), batch_size)```), in which:\n",
    "     * Get the indice of the training examples for the current step by slicing ```indice = order[start_index:start_index+batch_size]```.\n",
    "     * Next, from the training examples and labels, you need to select the appropriate examples and labels using indexing (```X_batch = X[indice]```).\n",
    "     * Now we are ready to get neural network predictions. If you are using batch normalization or DropOut, then here you need to switch the network to training mode (```net.train()```). It always is better to have.\n",
    "     * Get predictions for the received batch using a neural network (```batch_preds = net.forward(X_batch)```).\n",
    "     * Calculate the value of the loss function based on the predictions and batch labels\n",
    "     * Reset the gradients accumulated in the neural network nodes to be optimized (```optimizer.zero_grad()```).\n",
    "     * Calculate the gradients of the loss function from the parameters of the neural network ```loss.backward()```\n",
    "     * Take an optimizer step (```optimizer.step()```).\n",
    "     * If you are using batch normalization or DropOut, switch the neural network to validation mode (```net.valid()```). It always is better to have.\n",
    "\n",
    "   * Calculate predictions for the test set (in our case, this can be done in one batch, ```test_preds = net(X_test)```)\n",
    "   * Calculate the accuracy for the test set.\n",
    "   * Calculate the loss function for the test set.\n",
    "   * Add calculated accuracy to accuracy history and loss to loss history"
   ]
  },
  {
   "cell_type": "code",
   "execution_count": 20,
   "metadata": {
    "id": "wZtqiGvfpS3r"
   },
   "outputs": [
    {
     "name": "stdout",
     "output_type": "stream",
     "text": [
      "Epoch 1/70, Train Loss: 0.1814, Test Loss: 0.1591, Test Accuracy: 0.9545\n",
      "Epoch 2/70, Train Loss: 0.0893, Test Loss: 0.1248, Test Accuracy: 0.9656\n",
      "Epoch 3/70, Train Loss: 0.1246, Test Loss: 0.1065, Test Accuracy: 0.9683\n",
      "Epoch 4/70, Train Loss: 0.1337, Test Loss: 0.0944, Test Accuracy: 0.9716\n",
      "Epoch 5/70, Train Loss: 0.0603, Test Loss: 0.0906, Test Accuracy: 0.9729\n",
      "Epoch 6/70, Train Loss: 0.0377, Test Loss: 0.0839, Test Accuracy: 0.9744\n",
      "Epoch 7/70, Train Loss: 0.0257, Test Loss: 0.0848, Test Accuracy: 0.9754\n",
      "Epoch 8/70, Train Loss: 0.0245, Test Loss: 0.0746, Test Accuracy: 0.9785\n",
      "Epoch 9/70, Train Loss: 0.0163, Test Loss: 0.0753, Test Accuracy: 0.9775\n",
      "Epoch 10/70, Train Loss: 0.0304, Test Loss: 0.0763, Test Accuracy: 0.9767\n",
      "Epoch 11/70, Train Loss: 0.0534, Test Loss: 0.0740, Test Accuracy: 0.9776\n",
      "Epoch 12/70, Train Loss: 0.0192, Test Loss: 0.0786, Test Accuracy: 0.9774\n",
      "Epoch 13/70, Train Loss: 0.0110, Test Loss: 0.0735, Test Accuracy: 0.9779\n",
      "Epoch 14/70, Train Loss: 0.0063, Test Loss: 0.0747, Test Accuracy: 0.9791\n",
      "Epoch 15/70, Train Loss: 0.0149, Test Loss: 0.0782, Test Accuracy: 0.9792\n",
      "Epoch 16/70, Train Loss: 0.0106, Test Loss: 0.0801, Test Accuracy: 0.9782\n",
      "Epoch 17/70, Train Loss: 0.0081, Test Loss: 0.0809, Test Accuracy: 0.9781\n",
      "Epoch 18/70, Train Loss: 0.0102, Test Loss: 0.0834, Test Accuracy: 0.9779\n",
      "Epoch 19/70, Train Loss: 0.0030, Test Loss: 0.0833, Test Accuracy: 0.9792\n",
      "Epoch 20/70, Train Loss: 0.0060, Test Loss: 0.0825, Test Accuracy: 0.9784\n",
      "Epoch 21/70, Train Loss: 0.0046, Test Loss: 0.0896, Test Accuracy: 0.9770\n",
      "Epoch 22/70, Train Loss: 0.0014, Test Loss: 0.0885, Test Accuracy: 0.9792\n",
      "Epoch 23/70, Train Loss: 0.0023, Test Loss: 0.0928, Test Accuracy: 0.9773\n",
      "Epoch 24/70, Train Loss: 0.0029, Test Loss: 0.0930, Test Accuracy: 0.9776\n",
      "Epoch 25/70, Train Loss: 0.0035, Test Loss: 0.0980, Test Accuracy: 0.9786\n",
      "Epoch 26/70, Train Loss: 0.0112, Test Loss: 0.1024, Test Accuracy: 0.9765\n",
      "Epoch 27/70, Train Loss: 0.0043, Test Loss: 0.0947, Test Accuracy: 0.9781\n",
      "Epoch 28/70, Train Loss: 0.0030, Test Loss: 0.0933, Test Accuracy: 0.9793\n",
      "Epoch 29/70, Train Loss: 0.0013, Test Loss: 0.0985, Test Accuracy: 0.9792\n",
      "Epoch 30/70, Train Loss: 0.0047, Test Loss: 0.0988, Test Accuracy: 0.9790\n",
      "Epoch 31/70, Train Loss: 0.0021, Test Loss: 0.1036, Test Accuracy: 0.9781\n",
      "Epoch 32/70, Train Loss: 0.0072, Test Loss: 0.1066, Test Accuracy: 0.9787\n",
      "Epoch 33/70, Train Loss: 0.0064, Test Loss: 0.1061, Test Accuracy: 0.9789\n",
      "Epoch 34/70, Train Loss: 0.0011, Test Loss: 0.1046, Test Accuracy: 0.9802\n",
      "Epoch 35/70, Train Loss: 0.0014, Test Loss: 0.1044, Test Accuracy: 0.9799\n",
      "Epoch 36/70, Train Loss: 0.0016, Test Loss: 0.1054, Test Accuracy: 0.9799\n",
      "Epoch 37/70, Train Loss: 0.0004, Test Loss: 0.1153, Test Accuracy: 0.9771\n",
      "Epoch 38/70, Train Loss: 0.0009, Test Loss: 0.1129, Test Accuracy: 0.9780\n",
      "Epoch 39/70, Train Loss: 0.0004, Test Loss: 0.1102, Test Accuracy: 0.9790\n",
      "Epoch 40/70, Train Loss: 0.0004, Test Loss: 0.1081, Test Accuracy: 0.9795\n",
      "Epoch 41/70, Train Loss: 0.0001, Test Loss: 0.1090, Test Accuracy: 0.9804\n",
      "Epoch 42/70, Train Loss: 0.0004, Test Loss: 0.1113, Test Accuracy: 0.9797\n",
      "Epoch 43/70, Train Loss: 0.0004, Test Loss: 0.1118, Test Accuracy: 0.9797\n",
      "Epoch 44/70, Train Loss: 0.0003, Test Loss: 0.1202, Test Accuracy: 0.9786\n",
      "Epoch 45/70, Train Loss: 0.0002, Test Loss: 0.1210, Test Accuracy: 0.9793\n",
      "Epoch 46/70, Train Loss: 0.0005, Test Loss: 0.1151, Test Accuracy: 0.9798\n",
      "Epoch 47/70, Train Loss: 0.0001, Test Loss: 0.1153, Test Accuracy: 0.9797\n",
      "Epoch 48/70, Train Loss: 0.0001, Test Loss: 0.1153, Test Accuracy: 0.9799\n",
      "Epoch 49/70, Train Loss: 0.0001, Test Loss: 0.1180, Test Accuracy: 0.9799\n",
      "Epoch 50/70, Train Loss: 0.0294, Test Loss: 0.1425, Test Accuracy: 0.9747\n",
      "Epoch 51/70, Train Loss: 0.0010, Test Loss: 0.1207, Test Accuracy: 0.9792\n",
      "Epoch 52/70, Train Loss: 0.0001, Test Loss: 0.1250, Test Accuracy: 0.9797\n",
      "Epoch 53/70, Train Loss: 0.0003, Test Loss: 0.1202, Test Accuracy: 0.9806\n",
      "Epoch 54/70, Train Loss: 0.0001, Test Loss: 0.1210, Test Accuracy: 0.9807\n",
      "Epoch 55/70, Train Loss: 0.0002, Test Loss: 0.1214, Test Accuracy: 0.9802\n",
      "Epoch 56/70, Train Loss: 0.0001, Test Loss: 0.1235, Test Accuracy: 0.9800\n",
      "Epoch 57/70, Train Loss: 0.0002, Test Loss: 0.1238, Test Accuracy: 0.9808\n",
      "Epoch 58/70, Train Loss: 0.0000, Test Loss: 0.1249, Test Accuracy: 0.9808\n",
      "Epoch 59/70, Train Loss: 0.0058, Test Loss: 0.1324, Test Accuracy: 0.9771\n",
      "Epoch 60/70, Train Loss: 0.0006, Test Loss: 0.1287, Test Accuracy: 0.9797\n",
      "Epoch 61/70, Train Loss: 0.0003, Test Loss: 0.1245, Test Accuracy: 0.9806\n",
      "Epoch 62/70, Train Loss: 0.0002, Test Loss: 0.1251, Test Accuracy: 0.9799\n",
      "Epoch 63/70, Train Loss: 0.0002, Test Loss: 0.1251, Test Accuracy: 0.9803\n",
      "Epoch 64/70, Train Loss: 0.0002, Test Loss: 0.1257, Test Accuracy: 0.9800\n",
      "Epoch 65/70, Train Loss: 0.0001, Test Loss: 0.1266, Test Accuracy: 0.9802\n",
      "Epoch 66/70, Train Loss: 0.0002, Test Loss: 0.1284, Test Accuracy: 0.9800\n",
      "Epoch 67/70, Train Loss: 0.0002, Test Loss: 0.1281, Test Accuracy: 0.9802\n",
      "Epoch 68/70, Train Loss: 0.0000, Test Loss: 0.1306, Test Accuracy: 0.9796\n",
      "Epoch 69/70, Train Loss: 0.0001, Test Loss: 0.1317, Test Accuracy: 0.9790\n",
      "Epoch 70/70, Train Loss: 0.0003, Test Loss: 0.1341, Test Accuracy: 0.9787\n"
     ]
    }
   ],
   "source": [
    "batch_size = 100\n",
    "n_epochs = 70\n",
    "\n",
    "train_loss_history = []\n",
    "train_accuracy_history = []\n",
    "\n",
    "test_accuracy_history = []\n",
    "test_loss_history = []\n",
    "\n",
    "for epoch in range(n_epochs):\n",
    "    mnist_net.train()\n",
    "    order = np.random.permutation(len(X_train))\n",
    "    \n",
    "    for start_index in range(0, len(X_train), batch_size):\n",
    "        batch_indices = order[start_index:start_index + batch_size]\n",
    "        X_batch = X_train[batch_indices]\n",
    "        y_batch = y_train[batch_indices]\n",
    "\n",
    "        optimizer.zero_grad()\n",
    "        predictions = mnist_net(X_batch)\n",
    "        loss_value = loss(predictions, y_batch)\n",
    "        loss_value.backward()\n",
    "        optimizer.step()\n",
    "    \n",
    "        train_loss_history.append(loss_value.item())\n",
    "        train_accuracy_history.append(\n",
    "            (predictions.argmax(dim=1) == y_batch).float().mean().item()\n",
    "        )\n",
    "\n",
    "    mnist_net.eval()\n",
    "    with torch.no_grad():\n",
    "        test_predictions = mnist_net(X_test)\n",
    "        test_loss = loss(test_predictions, y_test).item()\n",
    "        test_accuracy = (test_predictions.argmax(dim=1) == y_test).float().mean().item()\n",
    "        \n",
    "        test_loss_history.append(test_loss)\n",
    "        test_accuracy_history.append(test_accuracy)\n",
    "\n",
    "    print(f\"Epoch {epoch+1}/{n_epochs}, Train Loss: {train_loss_history[-1]:.4f}, \"\n",
    "          f\"Test Loss: {test_loss:.4f}, Test Accuracy: {test_accuracy:.4f}\")\n"
   ]
  },
  {
   "attachments": {},
   "cell_type": "markdown",
   "metadata": {
    "id": "-pzbNWXGTFa7"
   },
   "source": [
    "# Plot the learning progress graph"
   ]
  },
  {
   "cell_type": "code",
   "execution_count": 21,
   "metadata": {
    "colab": {
     "base_uri": "https://localhost:8080/"
    },
    "id": "FJfg3GujO0xM",
    "outputId": "769e4cca-8779-473e-99d7-efa1c8e21404"
   },
   "outputs": [
    {
     "data": {
      "text/plain": [
       "[<matplotlib.lines.Line2D at 0x16e406410>]"
      ]
     },
     "execution_count": 21,
     "metadata": {},
     "output_type": "execute_result"
    },
    {
     "data": {
      "image/png": "[encoded data removed]",
      "text/plain": [
       "<Figure size 640x480 with 1 Axes>"
      ]
     },
     "metadata": {},
     "output_type": "display_data"
    }
   ],
   "source": [
    "plt.plot(train_loss_history)\n",
    "plt.plot(test_loss_history)"
   ]
  },
  {
   "cell_type": "code",
   "execution_count": 22,
   "metadata": {
    "colab": {
     "base_uri": "https://localhost:8080/"
    },
    "id": "H1YXGVv6YATf",
    "outputId": "8ee41b51-e61a-4bb1-d86c-1e684283b6dd"
   },
   "outputs": [
    {
     "data": {
      "text/plain": [
       "[<matplotlib.lines.Line2D at 0x16e7b3310>]"
      ]
     },
     "execution_count": 22,
     "metadata": {},
     "output_type": "execute_result"
    },
    {
     "data": {
      "image/png": "[encoded data removed]",
      "text/plain": [
       "<Figure size 640x480 with 1 Axes>"
      ]
     },
     "metadata": {},
     "output_type": "display_data"
    }
   ],
   "source": [
    "plt.plot(train_accuracy_history)\n",
    "plt.plot(test_accuracy_history)"
   ]
  },
  {
   "cell_type": "code",
   "execution_count": 23,
   "metadata": {},
   "outputs": [
    {
     "name": "stdout",
     "output_type": "stream",
     "text": [
      "1.5.2\n"
     ]
    },
    {
     "data": {
      "image/png": "[encoded data removed]",
      "text/plain": [
       "<Figure size 640x480 with 2 Axes>"
      ]
     },
     "metadata": {},
     "output_type": "display_data"
    }
   ],
   "source": [
    "import sklearn\n",
    "print(sklearn.__version__)\n",
    "\n",
    "from sklearn.metrics import confusion_matrix, ConfusionMatrixDisplay\n",
    "\n",
    "mnist_net.eval()\n",
    "\n",
    "# Get predictions for the test dataset\n",
    "with torch.no_grad():\n",
    "    test_predictions = mnist_net(X_test).argmax(dim=1).cpu().numpy()\n",
    "    y_test_np = y_test.cpu().numpy()  # Convert ground truth to NumPy array\n",
    "\n",
    "# Compute the confusion matrix\n",
    "cm = confusion_matrix(y_test_np, test_predictions, labels=range(10))\n",
    "\n",
    "# Display the confusion matrix\n",
    "disp = ConfusionMatrixDisplay(confusion_matrix=cm, display_labels=range(10))\n",
    "disp.plot(cmap=\"viridis\", xticks_rotation=\"vertical\")\n",
    "\n",
    "plt.title(\"Confusion Matrix for MNIST Test Set\")\n",
    "plt.show()\n"
   ]
  },
  {
   "attachments": {},
   "cell_type": "markdown",
   "metadata": {
    "id": "bAmVWtqpTQ0R"
   },
   "source": [
    "# Afterword\n",
    "\n",
    "You have done your first cycle of learning on your own. It is quite simple and concise, takes no more than 100 lines, and it is quite easy to rewrite it. More and more functionality can be added to this learning cycle. As a result, the learning loop will become very large and unreadable, the logic inside the loop will be quite difficult to understand.\n",
    "\n",
    "In order not to think about training cycles, libraries have been developed to simplify the training of neural networks, such as PyTorch Lightning. We'll get to know PyTorch Lightning in the next practice."
   ]
  },
  {
   "cell_type": "markdown",
   "metadata": {},
   "source": [
    "# Kaggle competition"
   ]
  },
  {
   "cell_type": "code",
   "execution_count": 27,
   "metadata": {},
   "outputs": [],
   "source": [
    "train_data = pd.read_csv('/Users/giorgikurtanidze/Documents/GitHub/HW3-Neural-Networks/digit-recognizer/train.csv')\n",
    "test_data = pd.read_csv('/Users/giorgikurtanidze/Documents/GitHub/HW3-Neural-Networks/digit-recognizer/test.csv')"
   ]
  },
  {
   "cell_type": "code",
   "execution_count": 33,
   "metadata": {},
   "outputs": [],
   "source": [
    "X_train = train_data.iloc[:, 1:].values / 255.0  \n",
    "y_train = train_data.iloc[:, 0].values          \n",
    "X_test = test_data.values / 255.0     \n",
    "\n",
    "X_train = X_train.reshape(-1, 28 * 28)\n",
    "X_test = X_test.reshape(-1, 28 * 28)"
   ]
  },
  {
   "cell_type": "code",
   "execution_count": 34,
   "metadata": {},
   "outputs": [
    {
     "name": "stdout",
     "output_type": "stream",
     "text": [
      "Epoch 1/30, Loss: 4.223521827384502e-05, Accuracy: 1.0\n",
      "Epoch 2/30, Loss: 4.015577402852056e-05, Accuracy: 1.0\n",
      "Epoch 3/30, Loss: 3.812208603585802e-05, Accuracy: 1.0\n",
      "Epoch 4/30, Loss: 3.629594655480432e-05, Accuracy: 1.0\n",
      "Epoch 5/30, Loss: 3.461166229170333e-05, Accuracy: 1.0\n",
      "Epoch 6/30, Loss: 3.300721800820996e-05, Accuracy: 1.0\n",
      "Epoch 7/30, Loss: 3.150341290838027e-05, Accuracy: 1.0\n",
      "Epoch 8/30, Loss: 3.014474925399873e-05, Accuracy: 1.0\n",
      "Epoch 9/30, Loss: 2.8856386384990114e-05, Accuracy: 1.0\n",
      "Epoch 10/30, Loss: 2.762843536167736e-05, Accuracy: 1.0\n",
      "Epoch 11/30, Loss: 2.646401582550072e-05, Accuracy: 1.0\n",
      "Epoch 12/30, Loss: 2.536425014231465e-05, Accuracy: 1.0\n",
      "Epoch 13/30, Loss: 0.00010527741535934623, Accuracy: 0.9999816849991515\n",
      "Epoch 14/30, Loss: 0.0009778646443452037, Accuracy: 0.9997278913855553\n",
      "Epoch 15/30, Loss: 0.0009636002129763241, Accuracy: 0.9997253970588956\n",
      "Epoch 16/30, Loss: 0.0009138691667432985, Accuracy: 0.9997410716488957\n",
      "Epoch 17/30, Loss: 0.0008636057868161848, Accuracy: 0.9997563027283725\n",
      "Epoch 18/30, Loss: 0.0008181529842480104, Accuracy: 0.9997698414656851\n",
      "Epoch 19/30, Loss: 0.0007771163156150911, Accuracy: 0.9997819550727544\n",
      "Epoch 20/30, Loss: 0.0007399236074451227, Accuracy: 0.9997928573191166\n",
      "Epoch 21/30, Loss: 0.0007060923965303868, Accuracy: 0.9998027212563015\n",
      "Epoch 22/30, Loss: 0.0006751821128209014, Accuracy: 0.9998116884719241\n",
      "Epoch 23/30, Loss: 0.0006468407256486926, Accuracy: 0.9998198759296666\n",
      "Epoch 24/30, Loss: 0.0006207587579805854, Accuracy: 0.9998273810992638\n",
      "Epoch 25/30, Loss: 0.0005966756969493095, Accuracy: 0.9998342858552933\n",
      "Epoch 26/30, Loss: 0.0005743756027036716, Accuracy: 0.9998406594762436\n",
      "Epoch 27/30, Loss: 0.0005536644627393793, Accuracy: 0.9998465609771234\n",
      "Epoch 28/30, Loss: 0.0005343781099586483, Accuracy: 0.9998520409422261\n",
      "Epoch 29/30, Loss: 0.0005163772604047169, Accuracy: 0.9998571429787011\n",
      "Epoch 30/30, Loss: 0.0004995355377809833, Accuracy: 0.9998619048794111\n"
     ]
    }
   ],
   "source": [
    "# Assuming your model and other necessary components (optimizer, loss) are defined\n",
    "batch_size = 100\n",
    "n_epochs = 30\n",
    "\n",
    "train_loss_history = []\n",
    "train_accuracy_history = []\n",
    "\n",
    "for epoch in range(n_epochs):\n",
    "    mnist_net.train()\n",
    "    order = np.random.permutation(len(X_train))\n",
    "\n",
    "    for start_index in range(0, len(X_train), batch_size):\n",
    "        batch_indices = order[start_index:start_index + batch_size]\n",
    "        X_batch = X_train[batch_indices]\n",
    "        y_batch = y_train[batch_indices]\n",
    "\n",
    "        # Convert X_batch to PyTorch tensor and flatten\n",
    "        X_batch = torch.tensor(X_batch, dtype=torch.float32)  # Convert to tensor\n",
    "        X_batch = X_batch.view(-1, 28 * 28)  # Flatten the input for the fully connected layer\n",
    "        y_batch = torch.tensor(y_batch, dtype=torch.long)  # Convert y_batch to tensor for classification\n",
    "\n",
    "        optimizer.zero_grad()\n",
    "        predictions = mnist_net(X_batch)\n",
    "        loss_value = loss(predictions, y_batch)\n",
    "        loss_value.backward()\n",
    "        optimizer.step()\n",
    "\n",
    "        # Optionally, track loss and accuracy for training\n",
    "        train_loss_history.append(loss_value.item())\n",
    "        train_accuracy_history.append((predictions.argmax(dim=1) == y_batch).float().mean().item())\n",
    "\n",
    "    print(f\"Epoch {epoch + 1}/{n_epochs}, Loss: {np.mean(train_loss_history)}, Accuracy: {np.mean(train_accuracy_history)}\")\n"
   ]
  },
  {
   "cell_type": "code",
   "execution_count": 36,
   "metadata": {},
   "outputs": [],
   "source": [
    "import torch\n",
    "\n",
    "X_test = torch.tensor(X_test, dtype=torch.float32)\n",
    "\n",
    "X_test = X_test.view(-1, 28 * 28)\n",
    "\n",
    "mnist_net.eval()\n",
    "\n",
    "with torch.no_grad():\n",
    "    test_predictions = mnist_net(X_test)\n",
    "    predicted_labels = test_predictions.argmax(dim=1).numpy() \n"
   ]
  },
  {
   "cell_type": "code",
   "execution_count": 37,
   "metadata": {},
   "outputs": [],
   "source": [
    "submission = pd.DataFrame({\n",
    "    \"ImageId\": list(range(1, len(predicted_labels) + 1)),\n",
    "    \"Label\": predicted_labels\n",
    "})\n",
    "\n",
    "submission.to_csv('submission.csv', index=False)\n"
   ]
  },
  {
   "cell_type": "code",
   "execution_count": null,
   "metadata": {},
   "outputs": [],
   "source": []
  }
 ],
 "metadata": {
  "accelerator": "GPU",
  "colab": {
   "collapsed_sections": [],
   "name": "1 \"Практика_1_MNIST_полносвязной_сетью_PyTorch.ipynb\"",
   "provenance": []
  },
  "kernelspec": {
   "display_name": "Python (conda-venv)",
   "language": "python",
   "name": "your-environment-name"
  },
  "language_info": {
   "codemirror_mode": {
    "name": "ipython",
    "version": 3
   },
   "file_extension": ".py",
   "mimetype": "text/x-python",
   "name": "python",
   "nbconvert_exporter": "python",
   "pygments_lexer": "ipython3",
   "version": "3.10.16"
  },
  "widgets": {
   "application/vnd.jupyter.widget-state+json": {
    "0ea68f74683b4eee8f222adf4f861a76": {
     "model_module": "@jupyter-widgets/base",
     "model_module_version": "1.2.0",
     "model_name": "LayoutModel",
     "state": {
      "_model_module": "@jupyter-widgets/base",
      "_model_module_version": "1.2.0",
      "_model_name": "LayoutModel",
      "_view_count": null,
      "_view_module": "@jupyter-widgets/base",
      "_view_module_version": "1.2.0",
      "_view_name": "LayoutView",
      "align_content": null,
      "align_items": null,
      "align_self": null,
      "border": null,
      "bottom": null,
      "display": null,
      "flex": null,
      "flex_flow": null,
      "grid_area": null,
      "grid_auto_columns": null,
      "grid_auto_flow": null,
      "grid_auto_rows": null,
      "grid_column": null,
      "grid_gap": null,
      "grid_row": null,
      "grid_template_areas": null,
      "grid_template_columns": null,
      "grid_template_rows": null,
      "height": null,
      "justify_content": null,
      "justify_items": null,
      "left": null,
      "margin": null,
      "max_height": null,
      "max_width": null,
      "min_height": null,
      "min_width": null,
      "object_fit": null,
      "object_position": null,
      "order": null,
      "overflow": null,
      "overflow_x": null,
      "overflow_y": null,
      "padding": null,
      "right": null,
      "top": null,
      "visibility": null,
      "width": null
     }
    },
    "28165ee9d71349d18b31573dd0db4871": {
     "model_module": "@jupyter-widgets/base",
     "model_module_version": "1.2.0",
     "model_name": "LayoutModel",
     "state": {
      "_model_module": "@jupyter-widgets/base",
      "_model_module_version": "1.2.0",
      "_model_name": "LayoutModel",
      "_view_count": null,
      "_view_module": "@jupyter-widgets/base",
      "_view_module_version": "1.2.0",
      "_view_name": "LayoutView",
      "align_content": null,
      "align_items": null,
      "align_self": null,
      "border": null,
      "bottom": null,
      "display": null,
      "flex": null,
      "flex_flow": null,
      "grid_area": null,
      "grid_auto_columns": null,
      "grid_auto_flow": null,
      "grid_auto_rows": null,
      "grid_column": null,
      "grid_gap": null,
      "grid_row": null,
      "grid_template_areas": null,
      "grid_template_columns": null,
      "grid_template_rows": null,
      "height": null,
      "justify_content": null,
      "justify_items": null,
      "left": null,
      "margin": null,
      "max_height": null,
      "max_width": null,
      "min_height": null,
      "min_width": null,
      "object_fit": null,
      "object_position": null,
      "order": null,
      "overflow": null,
      "overflow_x": null,
      "overflow_y": null,
      "padding": null,
      "right": null,
      "top": null,
      "visibility": null,
      "width": null
     }
    },
    "29a92c3c8ebe4a9f93739858b6b886d5": {
     "model_module": "@jupyter-widgets/controls",
     "model_module_version": "1.5.0",
     "model_name": "ProgressStyleModel",
     "state": {
      "_model_module": "@jupyter-widgets/controls",
      "_model_module_version": "1.5.0",
      "_model_name": "ProgressStyleModel",
      "_view_count": null,
      "_view_module": "@jupyter-widgets/base",
      "_view_module_version": "1.2.0",
      "_view_name": "StyleView",
      "bar_color": null,
      "description_width": ""
     }
    },
    "2bc739d588c44504a6363b0c2b126534": {
     "model_module": "@jupyter-widgets/base",
     "model_module_version": "1.2.0",
     "model_name": "LayoutModel",
     "state": {
      "_model_module": "@jupyter-widgets/base",
      "_model_module_version": "1.2.0",
      "_model_name": "LayoutModel",
      "_view_count": null,
      "_view_module": "@jupyter-widgets/base",
      "_view_module_version": "1.2.0",
      "_view_name": "LayoutView",
      "align_content": null,
      "align_items": null,
      "align_self": null,
      "border": null,
      "bottom": null,
      "display": null,
      "flex": null,
      "flex_flow": null,
      "grid_area": null,
      "grid_auto_columns": null,
      "grid_auto_flow": null,
      "grid_auto_rows": null,
      "grid_column": null,
      "grid_gap": null,
      "grid_row": null,
      "grid_template_areas": null,
      "grid_template_columns": null,
      "grid_template_rows": null,
      "height": null,
      "justify_content": null,
      "justify_items": null,
      "left": null,
      "margin": null,
      "max_height": null,
      "max_width": null,
      "min_height": null,
      "min_width": null,
      "object_fit": null,
      "object_position": null,
      "order": null,
      "overflow": null,
      "overflow_x": null,
      "overflow_y": null,
      "padding": null,
      "right": null,
      "top": null,
      "visibility": null,
      "width": null
     }
    },
    "2d023aafa5bb4a94b06330754668397c": {
     "model_module": "@jupyter-widgets/controls",
     "model_module_version": "1.5.0",
     "model_name": "DescriptionStyleModel",
     "state": {
      "_model_module": "@jupyter-widgets/controls",
      "_model_module_version": "1.5.0",
      "_model_name": "DescriptionStyleModel",
      "_view_count": null,
      "_view_module": "@jupyter-widgets/base",
      "_view_module_version": "1.2.0",
      "_view_name": "StyleView",
      "description_width": ""
     }
    },
    "32f26bde2daf40378a3f30aba08f090e": {
     "model_module": "@jupyter-widgets/controls",
     "model_module_version": "1.5.0",
     "model_name": "HTMLModel",
     "state": {
      "_dom_classes": [],
      "_model_module": "@jupyter-widgets/controls",
      "_model_module_version": "1.5.0",
      "_model_name": "HTMLModel",
      "_view_count": null,
      "_view_module": "@jupyter-widgets/controls",
      "_view_module_version": "1.5.0",
      "_view_name": "HTMLView",
      "description": "",
      "description_tooltip": null,
      "layout": "IPY_MODEL_cee438dd25a04011b8f5cf5774b3d9db",
      "placeholder": "​",
      "style": "IPY_MODEL_71001c3bb6a34f3d9a9566004100bbff",
      "value": ""
     }
    },
    "37d7387c2cc2407587ec7040590a051b": {
     "model_module": "@jupyter-widgets/base",
     "model_module_version": "1.2.0",
     "model_name": "LayoutModel",
     "state": {
      "_model_module": "@jupyter-widgets/base",
      "_model_module_version": "1.2.0",
      "_model_name": "LayoutModel",
      "_view_count": null,
      "_view_module": "@jupyter-widgets/base",
      "_view_module_version": "1.2.0",
      "_view_name": "LayoutView",
      "align_content": null,
      "align_items": null,
      "align_self": null,
      "border": null,
      "bottom": null,
      "display": null,
      "flex": null,
      "flex_flow": null,
      "grid_area": null,
      "grid_auto_columns": null,
      "grid_auto_flow": null,
      "grid_auto_rows": null,
      "grid_column": null,
      "grid_gap": null,
      "grid_row": null,
      "grid_template_areas": null,
      "grid_template_columns": null,
      "grid_template_rows": null,
      "height": null,
      "justify_content": null,
      "justify_items": null,
      "left": null,
      "margin": null,
      "max_height": null,
      "max_width": null,
      "min_height": null,
      "min_width": null,
      "object_fit": null,
      "object_position": null,
      "order": null,
      "overflow": null,
      "overflow_x": null,
      "overflow_y": null,
      "padding": null,
      "right": null,
      "top": null,
      "visibility": null,
      "width": null
     }
    },
    "3ad04b4354544e0ab3dbe22e5842be64": {
     "model_module": "@jupyter-widgets/base",
     "model_module_version": "1.2.0",
     "model_name": "LayoutModel",
     "state": {
      "_model_module": "@jupyter-widgets/base",
      "_model_module_version": "1.2.0",
      "_model_name": "LayoutModel",
      "_view_count": null,
      "_view_module": "@jupyter-widgets/base",
      "_view_module_version": "1.2.0",
      "_view_name": "LayoutView",
      "align_content": null,
      "align_items": null,
      "align_self": null,
      "border": null,
      "bottom": null,
      "display": null,
      "flex": null,
      "flex_flow": null,
      "grid_area": null,
      "grid_auto_columns": null,
      "grid_auto_flow": null,
      "grid_auto_rows": null,
      "grid_column": null,
      "grid_gap": null,
      "grid_row": null,
      "grid_template_areas": null,
      "grid_template_columns": null,
      "grid_template_rows": null,
      "height": null,
      "justify_content": null,
      "justify_items": null,
      "left": null,
      "margin": null,
      "max_height": null,
      "max_width": null,
      "min_height": null,
      "min_width": null,
      "object_fit": null,
      "object_position": null,
      "order": null,
      "overflow": null,
      "overflow_x": null,
      "overflow_y": null,
      "padding": null,
      "right": null,
      "top": null,
      "visibility": null,
      "width": null
     }
    },
    "3bac3fe851c34a4dbe94ecb4580745fa": {
     "model_module": "@jupyter-widgets/base",
     "model_module_version": "1.2.0",
     "model_name": "LayoutModel",
     "state": {
      "_model_module": "@jupyter-widgets/base",
      "_model_module_version": "1.2.0",
      "_model_name": "LayoutModel",
      "_view_count": null,
      "_view_module": "@jupyter-widgets/base",
      "_view_module_version": "1.2.0",
      "_view_name": "LayoutView",
      "align_content": null,
      "align_items": null,
      "align_self": null,
      "border": null,
      "bottom": null,
      "display": null,
      "flex": null,
      "flex_flow": null,
      "grid_area": null,
      "grid_auto_columns": null,
      "grid_auto_flow": null,
      "grid_auto_rows": null,
      "grid_column": null,
      "grid_gap": null,
      "grid_row": null,
      "grid_template_areas": null,
      "grid_template_columns": null,
      "grid_template_rows": null,
      "height": null,
      "justify_content": null,
      "justify_items": null,
      "left": null,
      "margin": null,
      "max_height": null,
      "max_width": null,
      "min_height": null,
      "min_width": null,
      "object_fit": null,
      "object_position": null,
      "order": null,
      "overflow": null,
      "overflow_x": null,
      "overflow_y": null,
      "padding": null,
      "right": null,
      "top": null,
      "visibility": null,
      "width": null
     }
    },
    "3ffb267a8e0a4b2d9b42cef5a9f1aecc": {
     "model_module": "@jupyter-widgets/controls",
     "model_module_version": "1.5.0",
     "model_name": "ProgressStyleModel",
     "state": {
      "_model_module": "@jupyter-widgets/controls",
      "_model_module_version": "1.5.0",
      "_model_name": "ProgressStyleModel",
      "_view_count": null,
      "_view_module": "@jupyter-widgets/base",
      "_view_module_version": "1.2.0",
      "_view_name": "StyleView",
      "bar_color": null,
      "description_width": ""
     }
    },
    "40a02a97b8d249e2afd01ae22a46ff5d": {
     "model_module": "@jupyter-widgets/controls",
     "model_module_version": "1.5.0",
     "model_name": "HBoxModel",
     "state": {
      "_dom_classes": [],
      "_model_module": "@jupyter-widgets/controls",
      "_model_module_version": "1.5.0",
      "_model_name": "HBoxModel",
      "_view_count": null,
      "_view_module": "@jupyter-widgets/controls",
      "_view_module_version": "1.5.0",
      "_view_name": "HBoxView",
      "box_style": "",
      "children": [
       "IPY_MODEL_af46abe1e35f493ea9bcf760ae517981",
       "IPY_MODEL_9ce96438de614d3095b473d4f581e548",
       "IPY_MODEL_781a041806fd4926a61fc10b984a217a"
      ],
      "layout": "IPY_MODEL_6ea87d598c254ae4a69727419bcaaaa9"
     }
    },
    "4c557714b2ff4ff89cd1549833225599": {
     "model_module": "@jupyter-widgets/controls",
     "model_module_version": "1.5.0",
     "model_name": "HBoxModel",
     "state": {
      "_dom_classes": [],
      "_model_module": "@jupyter-widgets/controls",
      "_model_module_version": "1.5.0",
      "_model_name": "HBoxModel",
      "_view_count": null,
      "_view_module": "@jupyter-widgets/controls",
      "_view_module_version": "1.5.0",
      "_view_name": "HBoxView",
      "box_style": "",
      "children": [
       "IPY_MODEL_5631f9daba63496ab0adaf157b574587",
       "IPY_MODEL_a31c26563f57498f8b02d54c398927dd",
       "IPY_MODEL_bb112bb10fe54242adf0f1e86bbff377"
      ],
      "layout": "IPY_MODEL_2bc739d588c44504a6363b0c2b126534"
     }
    },
    "4da838a7d0c147be8341916641a57852": {
     "model_module": "@jupyter-widgets/controls",
     "model_module_version": "1.5.0",
     "model_name": "DescriptionStyleModel",
     "state": {
      "_model_module": "@jupyter-widgets/controls",
      "_model_module_version": "1.5.0",
      "_model_name": "DescriptionStyleModel",
      "_view_count": null,
      "_view_module": "@jupyter-widgets/base",
      "_view_module_version": "1.2.0",
      "_view_name": "StyleView",
      "description_width": ""
     }
    },
    "5631f9daba63496ab0adaf157b574587": {
     "model_module": "@jupyter-widgets/controls",
     "model_module_version": "1.5.0",
     "model_name": "HTMLModel",
     "state": {
      "_dom_classes": [],
      "_model_module": "@jupyter-widgets/controls",
      "_model_module_version": "1.5.0",
      "_model_name": "HTMLModel",
      "_view_count": null,
      "_view_module": "@jupyter-widgets/controls",
      "_view_module_version": "1.5.0",
      "_view_name": "HTMLView",
      "description": "",
      "description_tooltip": null,
      "layout": "IPY_MODEL_db5c47da72b14a89bc5888561b1c1378",
      "placeholder": "​",
      "style": "IPY_MODEL_4da838a7d0c147be8341916641a57852",
      "value": ""
     }
    },
    "5aaab2fa61a845c9a3952a7b917ac7bc": {
     "model_module": "@jupyter-widgets/base",
     "model_module_version": "1.2.0",
     "model_name": "LayoutModel",
     "state": {
      "_model_module": "@jupyter-widgets/base",
      "_model_module_version": "1.2.0",
      "_model_name": "LayoutModel",
      "_view_count": null,
      "_view_module": "@jupyter-widgets/base",
      "_view_module_version": "1.2.0",
      "_view_name": "LayoutView",
      "align_content": null,
      "align_items": null,
      "align_self": null,
      "border": null,
      "bottom": null,
      "display": null,
      "flex": null,
      "flex_flow": null,
      "grid_area": null,
      "grid_auto_columns": null,
      "grid_auto_flow": null,
      "grid_auto_rows": null,
      "grid_column": null,
      "grid_gap": null,
      "grid_row": null,
      "grid_template_areas": null,
      "grid_template_columns": null,
      "grid_template_rows": null,
      "height": null,
      "justify_content": null,
      "justify_items": null,
      "left": null,
      "margin": null,
      "max_height": null,
      "max_width": null,
      "min_height": null,
      "min_width": null,
      "object_fit": null,
      "object_position": null,
      "order": null,
      "overflow": null,
      "overflow_x": null,
      "overflow_y": null,
      "padding": null,
      "right": null,
      "top": null,
      "visibility": null,
      "width": null
     }
    },
    "6105d07430b744b396dadef520382ee8": {
     "model_module": "@jupyter-widgets/controls",
     "model_module_version": "1.5.0",
     "model_name": "DescriptionStyleModel",
     "state": {
      "_model_module": "@jupyter-widgets/controls",
      "_model_module_version": "1.5.0",
      "_model_name": "DescriptionStyleModel",
      "_view_count": null,
      "_view_module": "@jupyter-widgets/base",
      "_view_module_version": "1.2.0",
      "_view_name": "StyleView",
      "description_width": ""
     }
    },
    "61da5719d6e44db2961db0871b52a520": {
     "model_module": "@jupyter-widgets/base",
     "model_module_version": "1.2.0",
     "model_name": "LayoutModel",
     "state": {
      "_model_module": "@jupyter-widgets/base",
      "_model_module_version": "1.2.0",
      "_model_name": "LayoutModel",
      "_view_count": null,
      "_view_module": "@jupyter-widgets/base",
      "_view_module_version": "1.2.0",
      "_view_name": "LayoutView",
      "align_content": null,
      "align_items": null,
      "align_self": null,
      "border": null,
      "bottom": null,
      "display": null,
      "flex": null,
      "flex_flow": null,
      "grid_area": null,
      "grid_auto_columns": null,
      "grid_auto_flow": null,
      "grid_auto_rows": null,
      "grid_column": null,
      "grid_gap": null,
      "grid_row": null,
      "grid_template_areas": null,
      "grid_template_columns": null,
      "grid_template_rows": null,
      "height": null,
      "justify_content": null,
      "justify_items": null,
      "left": null,
      "margin": null,
      "max_height": null,
      "max_width": null,
      "min_height": null,
      "min_width": null,
      "object_fit": null,
      "object_position": null,
      "order": null,
      "overflow": null,
      "overflow_x": null,
      "overflow_y": null,
      "padding": null,
      "right": null,
      "top": null,
      "visibility": null,
      "width": null
     }
    },
    "6dc85ffa03de4907be743de94cdce349": {
     "model_module": "@jupyter-widgets/controls",
     "model_module_version": "1.5.0",
     "model_name": "HBoxModel",
     "state": {
      "_dom_classes": [],
      "_model_module": "@jupyter-widgets/controls",
      "_model_module_version": "1.5.0",
      "_model_name": "HBoxModel",
      "_view_count": null,
      "_view_module": "@jupyter-widgets/controls",
      "_view_module_version": "1.5.0",
      "_view_name": "HBoxView",
      "box_style": "",
      "children": [
       "IPY_MODEL_dcb0bc059d374d4a9ea260a69abe5156",
       "IPY_MODEL_914e384ece254d5fb6c53fa0f818d8f6",
       "IPY_MODEL_ad94e46a59394139ada81a27e29d49c0"
      ],
      "layout": "IPY_MODEL_5aaab2fa61a845c9a3952a7b917ac7bc"
     }
    },
    "6ea87d598c254ae4a69727419bcaaaa9": {
     "model_module": "@jupyter-widgets/base",
     "model_module_version": "1.2.0",
     "model_name": "LayoutModel",
     "state": {
      "_model_module": "@jupyter-widgets/base",
      "_model_module_version": "1.2.0",
      "_model_name": "LayoutModel",
      "_view_count": null,
      "_view_module": "@jupyter-widgets/base",
      "_view_module_version": "1.2.0",
      "_view_name": "LayoutView",
      "align_content": null,
      "align_items": null,
      "align_self": null,
      "border": null,
      "bottom": null,
      "display": null,
      "flex": null,
      "flex_flow": null,
      "grid_area": null,
      "grid_auto_columns": null,
      "grid_auto_flow": null,
      "grid_auto_rows": null,
      "grid_column": null,
      "grid_gap": null,
      "grid_row": null,
      "grid_template_areas": null,
      "grid_template_columns": null,
      "grid_template_rows": null,
      "height": null,
      "justify_content": null,
      "justify_items": null,
      "left": null,
      "margin": null,
      "max_height": null,
      "max_width": null,
      "min_height": null,
      "min_width": null,
      "object_fit": null,
      "object_position": null,
      "order": null,
      "overflow": null,
      "overflow_x": null,
      "overflow_y": null,
      "padding": null,
      "right": null,
      "top": null,
      "visibility": null,
      "width": null
     }
    },
    "6fe6b583d84d4d3aa1d0908a4e063f1a": {
     "model_module": "@jupyter-widgets/base",
     "model_module_version": "1.2.0",
     "model_name": "LayoutModel",
     "state": {
      "_model_module": "@jupyter-widgets/base",
      "_model_module_version": "1.2.0",
      "_model_name": "LayoutModel",
      "_view_count": null,
      "_view_module": "@jupyter-widgets/base",
      "_view_module_version": "1.2.0",
      "_view_name": "LayoutView",
      "align_content": null,
      "align_items": null,
      "align_self": null,
      "border": null,
      "bottom": null,
      "display": null,
      "flex": null,
      "flex_flow": null,
      "grid_area": null,
      "grid_auto_columns": null,
      "grid_auto_flow": null,
      "grid_auto_rows": null,
      "grid_column": null,
      "grid_gap": null,
      "grid_row": null,
      "grid_template_areas": null,
      "grid_template_columns": null,
      "grid_template_rows": null,
      "height": null,
      "justify_content": null,
      "justify_items": null,
      "left": null,
      "margin": null,
      "max_height": null,
      "max_width": null,
      "min_height": null,
      "min_width": null,
      "object_fit": null,
      "object_position": null,
      "order": null,
      "overflow": null,
      "overflow_x": null,
      "overflow_y": null,
      "padding": null,
      "right": null,
      "top": null,
      "visibility": null,
      "width": null
     }
    },
    "71001c3bb6a34f3d9a9566004100bbff": {
     "model_module": "@jupyter-widgets/controls",
     "model_module_version": "1.5.0",
     "model_name": "DescriptionStyleModel",
     "state": {
      "_model_module": "@jupyter-widgets/controls",
      "_model_module_version": "1.5.0",
      "_model_name": "DescriptionStyleModel",
      "_view_count": null,
      "_view_module": "@jupyter-widgets/base",
      "_view_module_version": "1.2.0",
      "_view_name": "StyleView",
      "description_width": ""
     }
    },
    "75ea03bc162b4fabb049556d3b5c4344": {
     "model_module": "@jupyter-widgets/base",
     "model_module_version": "1.2.0",
     "model_name": "LayoutModel",
     "state": {
      "_model_module": "@jupyter-widgets/base",
      "_model_module_version": "1.2.0",
      "_model_name": "LayoutModel",
      "_view_count": null,
      "_view_module": "@jupyter-widgets/base",
      "_view_module_version": "1.2.0",
      "_view_name": "LayoutView",
      "align_content": null,
      "align_items": null,
      "align_self": null,
      "border": null,
      "bottom": null,
      "display": null,
      "flex": null,
      "flex_flow": null,
      "grid_area": null,
      "grid_auto_columns": null,
      "grid_auto_flow": null,
      "grid_auto_rows": null,
      "grid_column": null,
      "grid_gap": null,
      "grid_row": null,
      "grid_template_areas": null,
      "grid_template_columns": null,
      "grid_template_rows": null,
      "height": null,
      "justify_content": null,
      "justify_items": null,
      "left": null,
      "margin": null,
      "max_height": null,
      "max_width": null,
      "min_height": null,
      "min_width": null,
      "object_fit": null,
      "object_position": null,
      "order": null,
      "overflow": null,
      "overflow_x": null,
      "overflow_y": null,
      "padding": null,
      "right": null,
      "top": null,
      "visibility": null,
      "width": null
     }
    },
    "781a041806fd4926a61fc10b984a217a": {
     "model_module": "@jupyter-widgets/controls",
     "model_module_version": "1.5.0",
     "model_name": "HTMLModel",
     "state": {
      "_dom_classes": [],
      "_model_module": "@jupyter-widgets/controls",
      "_model_module_version": "1.5.0",
      "_model_name": "HTMLModel",
      "_view_count": null,
      "_view_module": "@jupyter-widgets/controls",
      "_view_module_version": "1.5.0",
      "_view_name": "HTMLView",
      "description": "",
      "description_tooltip": null,
      "layout": "IPY_MODEL_61da5719d6e44db2961db0871b52a520",
      "placeholder": "​",
      "style": "IPY_MODEL_a73adfc139c44df5b7ee645e5dab6598",
      "value": " 9913344/? [00:00&lt;00:00, 16541473.27it/s]"
     }
    },
    "8ed56a64626b4eb9af907ce7c721630b": {
     "model_module": "@jupyter-widgets/controls",
     "model_module_version": "1.5.0",
     "model_name": "DescriptionStyleModel",
     "state": {
      "_model_module": "@jupyter-widgets/controls",
      "_model_module_version": "1.5.0",
      "_model_name": "DescriptionStyleModel",
      "_view_count": null,
      "_view_module": "@jupyter-widgets/base",
      "_view_module_version": "1.2.0",
      "_view_name": "StyleView",
      "description_width": ""
     }
    },
    "914e384ece254d5fb6c53fa0f818d8f6": {
     "model_module": "@jupyter-widgets/controls",
     "model_module_version": "1.5.0",
     "model_name": "FloatProgressModel",
     "state": {
      "_dom_classes": [],
      "_model_module": "@jupyter-widgets/controls",
      "_model_module_version": "1.5.0",
      "_model_name": "FloatProgressModel",
      "_view_count": null,
      "_view_module": "@jupyter-widgets/controls",
      "_view_module_version": "1.5.0",
      "_view_name": "ProgressView",
      "bar_style": "success",
      "description": "",
      "description_tooltip": null,
      "layout": "IPY_MODEL_3ad04b4354544e0ab3dbe22e5842be64",
      "max": 1648877,
      "min": 0,
      "orientation": "horizontal",
      "style": "IPY_MODEL_9731033f71f44bd7b44703c62e6bbd38",
      "value": 1648877
     }
    },
    "9731033f71f44bd7b44703c62e6bbd38": {
     "model_module": "@jupyter-widgets/controls",
     "model_module_version": "1.5.0",
     "model_name": "ProgressStyleModel",
     "state": {
      "_model_module": "@jupyter-widgets/controls",
      "_model_module_version": "1.5.0",
      "_model_name": "ProgressStyleModel",
      "_view_count": null,
      "_view_module": "@jupyter-widgets/base",
      "_view_module_version": "1.2.0",
      "_view_name": "StyleView",
      "bar_color": null,
      "description_width": ""
     }
    },
    "9ce96438de614d3095b473d4f581e548": {
     "model_module": "@jupyter-widgets/controls",
     "model_module_version": "1.5.0",
     "model_name": "FloatProgressModel",
     "state": {
      "_dom_classes": [],
      "_model_module": "@jupyter-widgets/controls",
      "_model_module_version": "1.5.0",
      "_model_name": "FloatProgressModel",
      "_view_count": null,
      "_view_module": "@jupyter-widgets/controls",
      "_view_module_version": "1.5.0",
      "_view_name": "ProgressView",
      "bar_style": "success",
      "description": "",
      "description_tooltip": null,
      "layout": "IPY_MODEL_d409959ce2de4da6b5208308df147c36",
      "max": 9912422,
      "min": 0,
      "orientation": "horizontal",
      "style": "IPY_MODEL_3ffb267a8e0a4b2d9b42cef5a9f1aecc",
      "value": 9912422
     }
    },
    "a31c26563f57498f8b02d54c398927dd": {
     "model_module": "@jupyter-widgets/controls",
     "model_module_version": "1.5.0",
     "model_name": "FloatProgressModel",
     "state": {
      "_dom_classes": [],
      "_model_module": "@jupyter-widgets/controls",
      "_model_module_version": "1.5.0",
      "_model_name": "FloatProgressModel",
      "_view_count": null,
      "_view_module": "@jupyter-widgets/controls",
      "_view_module_version": "1.5.0",
      "_view_name": "ProgressView",
      "bar_style": "success",
      "description": "",
      "description_tooltip": null,
      "layout": "IPY_MODEL_37d7387c2cc2407587ec7040590a051b",
      "max": 28881,
      "min": 0,
      "orientation": "horizontal",
      "style": "IPY_MODEL_29a92c3c8ebe4a9f93739858b6b886d5",
      "value": 28881
     }
    },
    "a73adfc139c44df5b7ee645e5dab6598": {
     "model_module": "@jupyter-widgets/controls",
     "model_module_version": "1.5.0",
     "model_name": "DescriptionStyleModel",
     "state": {
      "_model_module": "@jupyter-widgets/controls",
      "_model_module_version": "1.5.0",
      "_model_name": "DescriptionStyleModel",
      "_view_count": null,
      "_view_module": "@jupyter-widgets/base",
      "_view_module_version": "1.2.0",
      "_view_name": "StyleView",
      "description_width": ""
     }
    },
    "ad94e46a59394139ada81a27e29d49c0": {
     "model_module": "@jupyter-widgets/controls",
     "model_module_version": "1.5.0",
     "model_name": "HTMLModel",
     "state": {
      "_dom_classes": [],
      "_model_module": "@jupyter-widgets/controls",
      "_model_module_version": "1.5.0",
      "_model_name": "HTMLModel",
      "_view_count": null,
      "_view_module": "@jupyter-widgets/controls",
      "_view_module_version": "1.5.0",
      "_view_name": "HTMLView",
      "description": "",
      "description_tooltip": null,
      "layout": "IPY_MODEL_6fe6b583d84d4d3aa1d0908a4e063f1a",
      "placeholder": "​",
      "style": "IPY_MODEL_2d023aafa5bb4a94b06330754668397c",
      "value": " 1649664/? [00:00&lt;00:00, 3381261.14it/s]"
     }
    },
    "af46abe1e35f493ea9bcf760ae517981": {
     "model_module": "@jupyter-widgets/controls",
     "model_module_version": "1.5.0",
     "model_name": "HTMLModel",
     "state": {
      "_dom_classes": [],
      "_model_module": "@jupyter-widgets/controls",
      "_model_module_version": "1.5.0",
      "_model_name": "HTMLModel",
      "_view_count": null,
      "_view_module": "@jupyter-widgets/controls",
      "_view_module_version": "1.5.0",
      "_view_name": "HTMLView",
      "description": "",
      "description_tooltip": null,
      "layout": "IPY_MODEL_28165ee9d71349d18b31573dd0db4871",
      "placeholder": "​",
      "style": "IPY_MODEL_6105d07430b744b396dadef520382ee8",
      "value": ""
     }
    },
    "b52a7145cecc49eb935abb4ce7d23da7": {
     "model_module": "@jupyter-widgets/controls",
     "model_module_version": "1.5.0",
     "model_name": "HBoxModel",
     "state": {
      "_dom_classes": [],
      "_model_module": "@jupyter-widgets/controls",
      "_model_module_version": "1.5.0",
      "_model_name": "HBoxModel",
      "_view_count": null,
      "_view_module": "@jupyter-widgets/controls",
      "_view_module_version": "1.5.0",
      "_view_name": "HBoxView",
      "box_style": "",
      "children": [
       "IPY_MODEL_32f26bde2daf40378a3f30aba08f090e",
       "IPY_MODEL_dd28280894a0468a8576ee905b1a54a2",
       "IPY_MODEL_bf3d293973a747b89ebe721e15bc7190"
      ],
      "layout": "IPY_MODEL_b63527a2ce6e4492bb48c788ad57442a"
     }
    },
    "b63527a2ce6e4492bb48c788ad57442a": {
     "model_module": "@jupyter-widgets/base",
     "model_module_version": "1.2.0",
     "model_name": "LayoutModel",
     "state": {
      "_model_module": "@jupyter-widgets/base",
      "_model_module_version": "1.2.0",
      "_model_name": "LayoutModel",
      "_view_count": null,
      "_view_module": "@jupyter-widgets/base",
      "_view_module_version": "1.2.0",
      "_view_name": "LayoutView",
      "align_content": null,
      "align_items": null,
      "align_self": null,
      "border": null,
      "bottom": null,
      "display": null,
      "flex": null,
      "flex_flow": null,
      "grid_area": null,
      "grid_auto_columns": null,
      "grid_auto_flow": null,
      "grid_auto_rows": null,
      "grid_column": null,
      "grid_gap": null,
      "grid_row": null,
      "grid_template_areas": null,
      "grid_template_columns": null,
      "grid_template_rows": null,
      "height": null,
      "justify_content": null,
      "justify_items": null,
      "left": null,
      "margin": null,
      "max_height": null,
      "max_width": null,
      "min_height": null,
      "min_width": null,
      "object_fit": null,
      "object_position": null,
      "order": null,
      "overflow": null,
      "overflow_x": null,
      "overflow_y": null,
      "padding": null,
      "right": null,
      "top": null,
      "visibility": null,
      "width": null
     }
    },
    "b948f945473d40788b560ed6df6b6d3f": {
     "model_module": "@jupyter-widgets/controls",
     "model_module_version": "1.5.0",
     "model_name": "DescriptionStyleModel",
     "state": {
      "_model_module": "@jupyter-widgets/controls",
      "_model_module_version": "1.5.0",
      "_model_name": "DescriptionStyleModel",
      "_view_count": null,
      "_view_module": "@jupyter-widgets/base",
      "_view_module_version": "1.2.0",
      "_view_name": "StyleView",
      "description_width": ""
     }
    },
    "bb112bb10fe54242adf0f1e86bbff377": {
     "model_module": "@jupyter-widgets/controls",
     "model_module_version": "1.5.0",
     "model_name": "HTMLModel",
     "state": {
      "_dom_classes": [],
      "_model_module": "@jupyter-widgets/controls",
      "_model_module_version": "1.5.0",
      "_model_name": "HTMLModel",
      "_view_count": null,
      "_view_module": "@jupyter-widgets/controls",
      "_view_module_version": "1.5.0",
      "_view_name": "HTMLView",
      "description": "",
      "description_tooltip": null,
      "layout": "IPY_MODEL_0ea68f74683b4eee8f222adf4f861a76",
      "placeholder": "​",
      "style": "IPY_MODEL_eb0f08c4179f4a3aa7076e68722389d1",
      "value": " 29696/? [00:00&lt;00:00, 691993.86it/s]"
     }
    },
    "bf3d293973a747b89ebe721e15bc7190": {
     "model_module": "@jupyter-widgets/controls",
     "model_module_version": "1.5.0",
     "model_name": "HTMLModel",
     "state": {
      "_dom_classes": [],
      "_model_module": "@jupyter-widgets/controls",
      "_model_module_version": "1.5.0",
      "_model_name": "HTMLModel",
      "_view_count": null,
      "_view_module": "@jupyter-widgets/controls",
      "_view_module_version": "1.5.0",
      "_view_name": "HTMLView",
      "description": "",
      "description_tooltip": null,
      "layout": "IPY_MODEL_75ea03bc162b4fabb049556d3b5c4344",
      "placeholder": "​",
      "style": "IPY_MODEL_b948f945473d40788b560ed6df6b6d3f",
      "value": " 5120/? [00:00&lt;00:00, 100593.67it/s]"
     }
    },
    "cee438dd25a04011b8f5cf5774b3d9db": {
     "model_module": "@jupyter-widgets/base",
     "model_module_version": "1.2.0",
     "model_name": "LayoutModel",
     "state": {
      "_model_module": "@jupyter-widgets/base",
      "_model_module_version": "1.2.0",
      "_model_name": "LayoutModel",
      "_view_count": null,
      "_view_module": "@jupyter-widgets/base",
      "_view_module_version": "1.2.0",
      "_view_name": "LayoutView",
      "align_content": null,
      "align_items": null,
      "align_self": null,
      "border": null,
      "bottom": null,
      "display": null,
      "flex": null,
      "flex_flow": null,
      "grid_area": null,
      "grid_auto_columns": null,
      "grid_auto_flow": null,
      "grid_auto_rows": null,
      "grid_column": null,
      "grid_gap": null,
      "grid_row": null,
      "grid_template_areas": null,
      "grid_template_columns": null,
      "grid_template_rows": null,
      "height": null,
      "justify_content": null,
      "justify_items": null,
      "left": null,
      "margin": null,
      "max_height": null,
      "max_width": null,
      "min_height": null,
      "min_width": null,
      "object_fit": null,
      "object_position": null,
      "order": null,
      "overflow": null,
      "overflow_x": null,
      "overflow_y": null,
      "padding": null,
      "right": null,
      "top": null,
      "visibility": null,
      "width": null
     }
    },
    "d409959ce2de4da6b5208308df147c36": {
     "model_module": "@jupyter-widgets/base",
     "model_module_version": "1.2.0",
     "model_name": "LayoutModel",
     "state": {
      "_model_module": "@jupyter-widgets/base",
      "_model_module_version": "1.2.0",
      "_model_name": "LayoutModel",
      "_view_count": null,
      "_view_module": "@jupyter-widgets/base",
      "_view_module_version": "1.2.0",
      "_view_name": "LayoutView",
      "align_content": null,
      "align_items": null,
      "align_self": null,
      "border": null,
      "bottom": null,
      "display": null,
      "flex": null,
      "flex_flow": null,
      "grid_area": null,
      "grid_auto_columns": null,
      "grid_auto_flow": null,
      "grid_auto_rows": null,
      "grid_column": null,
      "grid_gap": null,
      "grid_row": null,
      "grid_template_areas": null,
      "grid_template_columns": null,
      "grid_template_rows": null,
      "height": null,
      "justify_content": null,
      "justify_items": null,
      "left": null,
      "margin": null,
      "max_height": null,
      "max_width": null,
      "min_height": null,
      "min_width": null,
      "object_fit": null,
      "object_position": null,
      "order": null,
      "overflow": null,
      "overflow_x": null,
      "overflow_y": null,
      "padding": null,
      "right": null,
      "top": null,
      "visibility": null,
      "width": null
     }
    },
    "db5c47da72b14a89bc5888561b1c1378": {
     "model_module": "@jupyter-widgets/base",
     "model_module_version": "1.2.0",
     "model_name": "LayoutModel",
     "state": {
      "_model_module": "@jupyter-widgets/base",
      "_model_module_version": "1.2.0",
      "_model_name": "LayoutModel",
      "_view_count": null,
      "_view_module": "@jupyter-widgets/base",
      "_view_module_version": "1.2.0",
      "_view_name": "LayoutView",
      "align_content": null,
      "align_items": null,
      "align_self": null,
      "border": null,
      "bottom": null,
      "display": null,
      "flex": null,
      "flex_flow": null,
      "grid_area": null,
      "grid_auto_columns": null,
      "grid_auto_flow": null,
      "grid_auto_rows": null,
      "grid_column": null,
      "grid_gap": null,
      "grid_row": null,
      "grid_template_areas": null,
      "grid_template_columns": null,
      "grid_template_rows": null,
      "height": null,
      "justify_content": null,
      "justify_items": null,
      "left": null,
      "margin": null,
      "max_height": null,
      "max_width": null,
      "min_height": null,
      "min_width": null,
      "object_fit": null,
      "object_position": null,
      "order": null,
      "overflow": null,
      "overflow_x": null,
      "overflow_y": null,
      "padding": null,
      "right": null,
      "top": null,
      "visibility": null,
      "width": null
     }
    },
    "dcb0bc059d374d4a9ea260a69abe5156": {
     "model_module": "@jupyter-widgets/controls",
     "model_module_version": "1.5.0",
     "model_name": "HTMLModel",
     "state": {
      "_dom_classes": [],
      "_model_module": "@jupyter-widgets/controls",
      "_model_module_version": "1.5.0",
      "_model_name": "HTMLModel",
      "_view_count": null,
      "_view_module": "@jupyter-widgets/controls",
      "_view_module_version": "1.5.0",
      "_view_name": "HTMLView",
      "description": "",
      "description_tooltip": null,
      "layout": "IPY_MODEL_3bac3fe851c34a4dbe94ecb4580745fa",
      "placeholder": "​",
      "style": "IPY_MODEL_8ed56a64626b4eb9af907ce7c721630b",
      "value": ""
     }
    },
    "dd28280894a0468a8576ee905b1a54a2": {
     "model_module": "@jupyter-widgets/controls",
     "model_module_version": "1.5.0",
     "model_name": "FloatProgressModel",
     "state": {
      "_dom_classes": [],
      "_model_module": "@jupyter-widgets/controls",
      "_model_module_version": "1.5.0",
      "_model_name": "FloatProgressModel",
      "_view_count": null,
      "_view_module": "@jupyter-widgets/controls",
      "_view_module_version": "1.5.0",
      "_view_name": "ProgressView",
      "bar_style": "success",
      "description": "",
      "description_tooltip": null,
      "layout": "IPY_MODEL_ea462623a96545b5a8b7f9c94dd2f3e7",
      "max": 4542,
      "min": 0,
      "orientation": "horizontal",
      "style": "IPY_MODEL_f52e9975da5d4fab8eaf310a6509d69a",
      "value": 4542
     }
    },
    "ea462623a96545b5a8b7f9c94dd2f3e7": {
     "model_module": "@jupyter-widgets/base",
     "model_module_version": "1.2.0",
     "model_name": "LayoutModel",
     "state": {
      "_model_module": "@jupyter-widgets/base",
      "_model_module_version": "1.2.0",
      "_model_name": "LayoutModel",
      "_view_count": null,
      "_view_module": "@jupyter-widgets/base",
      "_view_module_version": "1.2.0",
      "_view_name": "LayoutView",
      "align_content": null,
      "align_items": null,
      "align_self": null,
      "border": null,
      "bottom": null,
      "display": null,
      "flex": null,
      "flex_flow": null,
      "grid_area": null,
      "grid_auto_columns": null,
      "grid_auto_flow": null,
      "grid_auto_rows": null,
      "grid_column": null,
      "grid_gap": null,
      "grid_row": null,
      "grid_template_areas": null,
      "grid_template_columns": null,
      "grid_template_rows": null,
      "height": null,
      "justify_content": null,
      "justify_items": null,
      "left": null,
      "margin": null,
      "max_height": null,
      "max_width": null,
      "min_height": null,
      "min_width": null,
      "object_fit": null,
      "object_position": null,
      "order": null,
      "overflow": null,
      "overflow_x": null,
      "overflow_y": null,
      "padding": null,
      "right": null,
      "top": null,
      "visibility": null,
      "width": null
     }
    },
    "eb0f08c4179f4a3aa7076e68722389d1": {
     "model_module": "@jupyter-widgets/controls",
     "model_module_version": "1.5.0",
     "model_name": "DescriptionStyleModel",
     "state": {
      "_model_module": "@jupyter-widgets/controls",
      "_model_module_version": "1.5.0",
      "_model_name": "DescriptionStyleModel",
      "_view_count": null,
      "_view_module": "@jupyter-widgets/base",
      "_view_module_version": "1.2.0",
      "_view_name": "StyleView",
      "description_width": ""
     }
    },
    "f52e9975da5d4fab8eaf310a6509d69a": {
     "model_module": "@jupyter-widgets/controls",
     "model_module_version": "1.5.0",
     "model_name": "ProgressStyleModel",
     "state": {
      "_model_module": "@jupyter-widgets/controls",
      "_model_module_version": "1.5.0",
      "_model_name": "ProgressStyleModel",
      "_view_count": null,
      "_view_module": "@jupyter-widgets/base",
      "_view_module_version": "1.2.0",
      "_view_name": "StyleView",
      "bar_color": null,
      "description_width": ""
     }
    }
   }
  }
 },
 "nbformat": 4,
 "nbformat_minor": 4
}
